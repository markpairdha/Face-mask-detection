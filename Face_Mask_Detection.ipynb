{
  "nbformat": 4,
  "nbformat_minor": 0,
  "metadata": {
    "colab": {
      "name": "Face-Mask-Detection.ipynb",
      "provenance": [],
      "collapsed_sections": [],
      "authorship_tag": "ABX9TyNbh5gt5+izjYNc/+ljqvB0",
      "include_colab_link": true
    },
    "kernelspec": {
      "name": "python3",
      "display_name": "Python 3"
    },
    "language_info": {
      "name": "python"
    },
    "accelerator": "GPU"
  },
  "cells": [
    {
      "cell_type": "markdown",
      "metadata": {
        "id": "view-in-github",
        "colab_type": "text"
      },
      "source": [
        "<a href=\"https://colab.research.google.com/github/markpairdha/Face-mask-detection/blob/main/Face_Mask_Detection.ipynb\" target=\"_parent\"><img src=\"https://colab.research.google.com/assets/colab-badge.svg\" alt=\"Open In Colab\"/></a>"
      ]
    },
    {
      "cell_type": "code",
      "metadata": {
        "colab": {
          "base_uri": "https://localhost:8080/"
        },
        "id": "JtDnCT4VRoKX",
        "outputId": "4821e3b9-f93e-4b06-8ace-d8c76e3906b5"
      },
      "source": [
        "from google.colab import drive\n",
        "drive.mount('/content/drive')"
      ],
      "execution_count": 1,
      "outputs": [
        {
          "output_type": "stream",
          "text": [
            "Mounted at /content/drive\n"
          ],
          "name": "stdout"
        }
      ]
    },
    {
      "cell_type": "code",
      "metadata": {
        "id": "sbWzYIRtPtqd"
      },
      "source": [
        "import numpy as np\n",
        "import keras\n",
        "import keras.backend as k\n",
        "from keras.layers import Conv2D,MaxPooling2D,SpatialDropout2D,Flatten,Dropout,Dense\n",
        "from keras.models import Sequential,load_model\n",
        "from keras.optimizers import Adam\n",
        "from keras.preprocessing import image\n",
        "import cv2\n",
        "import datetime"
      ],
      "execution_count": 2,
      "outputs": []
    },
    {
      "cell_type": "code",
      "metadata": {
        "id": "m5EmWnuNP1X7"
      },
      "source": [
        "model=Sequential()\n",
        "model.add(Conv2D(32,(3,3),activation='relu',input_shape=(150,150,3)))\n",
        "model.add(MaxPooling2D() )\n",
        "model.add(Conv2D(32,(3,3),activation='relu'))\n",
        "model.add(MaxPooling2D() )\n",
        "model.add(Conv2D(32,(3,3),activation='relu'))\n",
        "model.add(MaxPooling2D() )\n",
        "model.add(Flatten())\n",
        "model.add(Dense(100,activation='relu'))\n",
        "model.add(Dense(1,activation='sigmoid'))\n",
        "model.compile(optimizer='adam',loss='binary_crossentropy',metrics=['accuracy'])"
      ],
      "execution_count": 3,
      "outputs": []
    },
    {
      "cell_type": "code",
      "metadata": {
        "colab": {
          "base_uri": "https://localhost:8080/"
        },
        "id": "fuNIwQPsP80m",
        "outputId": "b8b4c59e-2803-4922-f9f9-5c43530de65b"
      },
      "source": [
        "from keras.preprocessing.image import ImageDataGenerator\n",
        "train_datagen = ImageDataGenerator(\n",
        "        rescale=1./255,\n",
        "        shear_range=0.2,\n",
        "        zoom_range=0.2,\n",
        "        horizontal_flip=True)\n",
        "\n",
        "test_datagen = ImageDataGenerator(rescale=1./255)\n",
        "\n",
        "training_set = train_datagen.flow_from_directory(\n",
        "        '/content/drive/MyDrive/Colab Notebooks/Face-Mask-Detection/train',\n",
        "        target_size=(150,150),\n",
        "        batch_size=16 ,\n",
        "        class_mode='binary')\n",
        "\n",
        "test_set = test_datagen.flow_from_directory(\n",
        "        '/content/drive/MyDrive/Colab Notebooks/Face-Mask-Detection/test',\n",
        "        target_size=(150,150),\n",
        "        batch_size=16,\n",
        "        class_mode='binary')"
      ],
      "execution_count": 4,
      "outputs": [
        {
          "output_type": "stream",
          "text": [
            "Found 1314 images belonging to 2 classes.\n",
            "Found 194 images belonging to 2 classes.\n"
          ],
          "name": "stdout"
        }
      ]
    },
    {
      "cell_type": "code",
      "metadata": {
        "colab": {
          "base_uri": "https://localhost:8080/"
        },
        "id": "nKNbPBSzQHx0",
        "outputId": "8a200391-d84f-4814-ec57-9b9f6bb4aff1"
      },
      "source": [
        "model_saved=model.fit_generator(\n",
        "        training_set,\n",
        "        epochs=10,\n",
        "        validation_data=test_set,\n",
        "        )\n",
        "model.save('mymodel.h5',model_saved)"
      ],
      "execution_count": 5,
      "outputs": [
        {
          "output_type": "stream",
          "text": [
            "/usr/local/lib/python3.7/dist-packages/keras/engine/training.py:1915: UserWarning: `Model.fit_generator` is deprecated and will be removed in a future version. Please use `Model.fit`, which supports generators.\n",
            "  warnings.warn('`Model.fit_generator` is deprecated and '\n"
          ],
          "name": "stderr"
        },
        {
          "output_type": "stream",
          "text": [
            "Epoch 1/10\n",
            "83/83 [==============================] - 482s 5s/step - loss: 0.5009 - accuracy: 0.7232 - val_loss: 0.2778 - val_accuracy: 0.8866\n",
            "Epoch 2/10\n",
            "83/83 [==============================] - 14s 168ms/step - loss: 0.1997 - accuracy: 0.9346 - val_loss: 0.1470 - val_accuracy: 0.9433\n",
            "Epoch 3/10\n",
            "83/83 [==============================] - 14s 168ms/step - loss: 0.0895 - accuracy: 0.9646 - val_loss: 0.1022 - val_accuracy: 0.9588\n",
            "Epoch 4/10\n",
            "83/83 [==============================] - 14s 172ms/step - loss: 0.1072 - accuracy: 0.9554 - val_loss: 0.1096 - val_accuracy: 0.9639\n",
            "Epoch 5/10\n",
            "83/83 [==============================] - 15s 181ms/step - loss: 0.1094 - accuracy: 0.9546 - val_loss: 0.1175 - val_accuracy: 0.9588\n",
            "Epoch 6/10\n",
            "83/83 [==============================] - 15s 175ms/step - loss: 0.0547 - accuracy: 0.9783 - val_loss: 0.1065 - val_accuracy: 0.9691\n",
            "Epoch 7/10\n",
            "83/83 [==============================] - 15s 181ms/step - loss: 0.0464 - accuracy: 0.9849 - val_loss: 0.0815 - val_accuracy: 0.9691\n",
            "Epoch 8/10\n",
            "83/83 [==============================] - 15s 176ms/step - loss: 0.0298 - accuracy: 0.9905 - val_loss: 0.1050 - val_accuracy: 0.9691\n",
            "Epoch 9/10\n",
            "83/83 [==============================] - 14s 168ms/step - loss: 0.0640 - accuracy: 0.9759 - val_loss: 0.1106 - val_accuracy: 0.9588\n",
            "Epoch 10/10\n",
            "83/83 [==============================] - 14s 166ms/step - loss: 0.0274 - accuracy: 0.9923 - val_loss: 0.1071 - val_accuracy: 0.9691\n"
          ],
          "name": "stdout"
        }
      ]
    },
    {
      "cell_type": "code",
      "metadata": {
        "colab": {
          "base_uri": "https://localhost:8080/"
        },
        "id": "g_im9t4GQNBh",
        "outputId": "c939753d-0b8e-4062-a8cc-1a9c74db585a"
      },
      "source": [
        "#To test for individual images\n",
        "mymodel=load_model('/content/drive/MyDrive/Colab Notebooks/Face-Mask-Detection/mymodel.h5')\n",
        "test_image=image.load_img(r'/content/drive/MyDrive/Colab Notebooks/Face-Mask-Detection/with-mask.jpeg',target_size=(150,150,3))\n",
        "test_image\n",
        "test_image=image.img_to_array(test_image)\n",
        "test_image=np.expand_dims(test_image,axis=0)\n",
        "mymodel.predict(test_image)[0][0]"
      ],
      "execution_count": 6,
      "outputs": [
        {
          "output_type": "execute_result",
          "data": {
            "text/plain": [
              "0.0"
            ]
          },
          "metadata": {
            "tags": []
          },
          "execution_count": 6
        }
      ]
    },
    {
      "cell_type": "code",
      "metadata": {
        "colab": {
          "base_uri": "https://localhost:8080/"
        },
        "id": "0kUByBhnZzjQ",
        "outputId": "4ff74e9c-e636-4724-fd1f-5410aa804e24"
      },
      "source": [
        "mymodel=load_model('/content/drive/MyDrive/Colab Notebooks/Face-Mask-Detection/mymodel.h5')\n",
        "test_image1=image.load_img('/content/drive/MyDrive/Colab Notebooks/Face-Mask-Detection/no_mask.jpeg',target_size=(150,150,3))\n",
        "test_image1\n",
        "test_image1=image.img_to_array(test_image1)\n",
        "test_image1=np.expand_dims(test_image1,axis=0)\n",
        "mymodel.predict(test_image1)[0][0]"
      ],
      "execution_count": 9,
      "outputs": [
        {
          "output_type": "execute_result",
          "data": {
            "text/plain": [
              "1.0"
            ]
          },
          "metadata": {
            "tags": []
          },
          "execution_count": 9
        }
      ]
    },
    {
      "cell_type": "code",
      "metadata": {
        "id": "n8gEbAnPgDeT"
      },
      "source": [
        "# IMPLEMENTING LIVE DETECTION OF FACE MASK\n",
        "\n",
        "mymodel=load_model('/content/drive/MyDrive/Colab Notebooks/Face-Mask-Detection/mymodel.h5')\n",
        "\n",
        "cap=cv2.VideoCapture(0)\n",
        "face_cascade=cv2.CascadeClassifier('/content/drive/MyDrive/Colab Notebooks/Face-Mask-Detection/haarcascade_frontalface_default.xml')\n",
        "\n",
        "while cap.isOpened():\n",
        "    _,img=cap.read()\n",
        "    face=face_cascade.detectMultiScale(img,scaleFactor=1.1,minNeighbors=4)\n",
        "    for(x,y,w,h) in face:\n",
        "        face_img = img[y:y+h, x:x+w]\n",
        "        cv2.imwrite('temp.jpg',face_img)\n",
        "        test_image=image.load_img('temp.jpg',target_size=(150,150,3))\n",
        "        test_image=image.img_to_array(test_image)\n",
        "        test_image=np.expand_dims(test_image,axis=0)\n",
        "        pred=mymodel.predict(test_image)[0][0]\n",
        "        if pred==1:\n",
        "            cv2.rectangle(img,(x,y),(x+w,y+h),(0,0,255),3)\n",
        "            cv2.putText(img,'NO MASK',((x+w)//2,y+h+20),cv2.FONT_HERSHEY_SIMPLEX,1,(0,0,255),3)\n",
        "        else:\n",
        "            cv2.rectangle(img,(x,y),(x+w,y+h),(0,255,0),3)\n",
        "            cv2.putText(img,'MASK',((x+w)//2,y+h+20),cv2.FONT_HERSHEY_SIMPLEX,1,(0,255,0),3)\n",
        "        datet=str(datetime.datetime.now())\n",
        "        cv2.putText(img,datet,(400,450),cv2.FONT_HERSHEY_SIMPLEX,0.5,(255,255,255),1)\n",
        "          \n",
        "    cv2.imshow('img',img)\n",
        "    \n",
        "    if cv2.waitKey(1)==ord('q'):\n",
        "        break\n",
        "    \n",
        "cap.release()\n",
        "cv2.destroyAllWindows()"
      ],
      "execution_count": 30,
      "outputs": []
    },
    {
      "cell_type": "code",
      "metadata": {
        "id": "rkQ5J-8AkmXC"
      },
      "source": [
        ""
      ],
      "execution_count": null,
      "outputs": []
    }
  ]
}