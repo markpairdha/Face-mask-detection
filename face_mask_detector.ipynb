{
  "nbformat": 4,
  "nbformat_minor": 0,
  "metadata": {
    "colab": {
      "name": "face-mask-detector",
      "provenance": [],
      "collapsed_sections": [],
      "mount_file_id": "19OCTGeswlclUhQmHQ2El8THIcn6rAnLj",
      "authorship_tag": "ABX9TyOhnG4Wod89FZmEQcT2nT21",
      "include_colab_link": true
    },
    "kernelspec": {
      "name": "python3",
      "display_name": "Python 3"
    },
    "language_info": {
      "name": "python"
    },
    "accelerator": "TPU"
  },
  "cells": [
    {
      "cell_type": "markdown",
      "metadata": {
        "id": "view-in-github",
        "colab_type": "text"
      },
      "source": [
        "<a href=\"https://colab.research.google.com/github/markpairdha/Face-mask-detection/blob/main/face_mask_detector.ipynb\" target=\"_parent\"><img src=\"https://colab.research.google.com/assets/colab-badge.svg\" alt=\"Open In Colab\"/></a>"
      ]
    },
    {
      "cell_type": "code",
      "metadata": {
        "colab": {
          "base_uri": "https://localhost:8080/"
        },
        "id": "vUfcIjiGI93f",
        "outputId": "831e8505-ac8f-4e2f-f2e9-16117f86976c"
      },
      "source": [
        "from google.colab import drive\n",
        "drive.mount('/content/drive')"
      ],
      "execution_count": 1,
      "outputs": [
        {
          "output_type": "stream",
          "text": [
            "Drive already mounted at /content/drive; to attempt to forcibly remount, call drive.mount(\"/content/drive\", force_remount=True).\n"
          ],
          "name": "stdout"
        }
      ]
    },
    {
      "cell_type": "code",
      "metadata": {
        "id": "uqpEzOngHcog"
      },
      "source": [
        "import numpy as np\n",
        "import os\n",
        "import matplotlib.pyplot as plt\n",
        "from imutils import paths\n",
        "from tensorflow.keras.preprocessing.image import ImageDataGenerator\n",
        "from tensorflow.keras.applications import MobileNetV2\n",
        "from tensorflow.keras.layers import AveragePooling2D\n",
        "from tensorflow.keras.layers import Dropout\n",
        "from tensorflow.keras.layers import Flatten\n",
        "from tensorflow.keras.layers import Dense\n",
        "from tensorflow.keras.layers import Input\n",
        "from tensorflow.keras.models import Model\n",
        "from tensorflow.keras.optimizers import Adam\n",
        "from tensorflow.keras.applications.mobilenet_v2 import preprocess_input\n",
        "from tensorflow.keras.preprocessing.image import img_to_array\n",
        "from tensorflow.keras.preprocessing.image import load_img\n",
        "from tensorflow.keras.utils import to_categorical\n",
        "from sklearn.preprocessing import LabelBinarizer\n",
        "from sklearn.model_selection import train_test_split\n",
        "from sklearn.metrics import classification_report"
      ],
      "execution_count": 2,
      "outputs": []
    },
    {
      "cell_type": "code",
      "metadata": {
        "id": "RLZ-zUCkH89h"
      },
      "source": [
        "DIRECTORY = r\"/content/drive/MyDrive/Colab Notebooks/Face-Mask-Detection\"\n",
        "CATEGORIES = [\"with_mask\", \"without_mask\"]  # 1915 #1918"
      ],
      "execution_count": 3,
      "outputs": []
    },
    {
      "cell_type": "code",
      "metadata": {
        "colab": {
          "base_uri": "https://localhost:8080/"
        },
        "id": "iqfu9Jl7IwJd",
        "outputId": "c6b14f99-0bd6-4e79-9f76-23747662021b"
      },
      "source": [
        "data = []\n",
        "labels = []\n",
        "\n",
        "for category in CATEGORIES:\n",
        "    path = os.path.join(DIRECTORY, category)\n",
        "    for img in os.listdir(path):\n",
        "    \timg_path = os.path.join(path, img)\n",
        "    \timage = load_img(img_path, target_size=(224, 224))\n",
        "    \timage = img_to_array(image)\n",
        "    \timage = preprocess_input(image)\n",
        "\n",
        "    \tdata.append(image)\n",
        "    \tlabels.append(category)"
      ],
      "execution_count": 4,
      "outputs": [
        {
          "output_type": "stream",
          "text": [
            "/usr/local/lib/python3.7/dist-packages/PIL/Image.py:960: UserWarning: Palette images with Transparency expressed in bytes should be converted to RGBA images\n",
            "  \"Palette images with Transparency expressed in bytes should be \"\n"
          ],
          "name": "stderr"
        }
      ]
    },
    {
      "cell_type": "code",
      "metadata": {
        "id": "dQw77KoWJEKv"
      },
      "source": [
        "# perform one-hot encoding on the labels\n",
        "lb = LabelBinarizer()\n",
        "labels = lb.fit_transform(labels)\n",
        "labels = to_categorical(labels)"
      ],
      "execution_count": 5,
      "outputs": []
    },
    {
      "cell_type": "code",
      "metadata": {
        "id": "5OAN-M0iJO--"
      },
      "source": [
        "data = np.array(data, dtype=\"float32\")\n",
        "labels = np.array(labels)"
      ],
      "execution_count": 6,
      "outputs": []
    },
    {
      "cell_type": "code",
      "metadata": {
        "id": "oDCLT0J0JP4I"
      },
      "source": [
        "(trainX, testX, trainY, testY) = train_test_split(data, labels,test_size=0.20, stratify=labels, random_state=42)"
      ],
      "execution_count": 7,
      "outputs": []
    },
    {
      "cell_type": "code",
      "metadata": {
        "id": "MRt9OmahJRZg"
      },
      "source": [
        "# construct the training image generator for producing many images\n",
        "aug = ImageDataGenerator(\n",
        "\trotation_range=20,\n",
        "\tzoom_range=0.15,\n",
        "\twidth_shift_range=0.2,\n",
        "\theight_shift_range=0.2,\n",
        "\tshear_range=0.15,\n",
        "\thorizontal_flip=True,\n",
        "\tfill_mode=\"nearest\")"
      ],
      "execution_count": 8,
      "outputs": []
    },
    {
      "cell_type": "code",
      "metadata": {
        "colab": {
          "base_uri": "https://localhost:8080/"
        },
        "id": "Pm0mqBANJVR0",
        "outputId": "70f47a4d-061c-4e4f-a45f-cae64eb18a96"
      },
      "source": [
        "# load the MobileNetV2 network\n",
        "baseModel = MobileNetV2(weights=\"imagenet\", include_top=False,input_tensor=Input(shape=(224, 224, 3)))"
      ],
      "execution_count": 9,
      "outputs": [
        {
          "output_type": "stream",
          "text": [
            "WARNING:tensorflow:`input_shape` is undefined or non-square, or `rows` is not in [96, 128, 160, 192, 224]. Weights for input shape (224, 224) will be loaded as the default.\n",
            "Downloading data from https://storage.googleapis.com/tensorflow/keras-applications/mobilenet_v2/mobilenet_v2_weights_tf_dim_ordering_tf_kernels_1.0_224_no_top.h5\n",
            "9412608/9406464 [==============================] - 0s 0us/step\n"
          ],
          "name": "stdout"
        }
      ]
    },
    {
      "cell_type": "code",
      "metadata": {
        "id": "_bRmZhK8JXkm"
      },
      "source": [
        "headModel = baseModel.output\n",
        "headModel = AveragePooling2D(pool_size=(7, 7))(headModel)\n",
        "headModel = Flatten(name=\"flatten\")(headModel)\n",
        "headModel = Dense(128, activation=\"relu\")(headModel)\n",
        "headModel = Dropout(0.5)(headModel)\n",
        "headModel = Dense(2, activation=\"softmax\")(headModel)\n",
        "model = Model(inputs=baseModel.input, outputs=headModel)"
      ],
      "execution_count": 10,
      "outputs": []
    },
    {
      "cell_type": "code",
      "metadata": {
        "id": "IlIhZOO3JcwC"
      },
      "source": [
        "# leaving imagenet weights as it is! \n",
        "for layer in baseModel.layers:\n",
        "\tlayer.trainable = False"
      ],
      "execution_count": 11,
      "outputs": []
    },
    {
      "cell_type": "code",
      "metadata": {
        "colab": {
          "base_uri": "https://localhost:8080/"
        },
        "id": "oO3Khlv8JeuT",
        "outputId": "75987767-0868-4c1f-e79b-bf8099978fe5"
      },
      "source": [
        "# compiling model\n",
        "model.compile(loss=\"binary_crossentropy\", optimizer=Adam(lr=1e-4, decay=1e-4/20),metrics=[\"accuracy\"])"
      ],
      "execution_count": 12,
      "outputs": [
        {
          "output_type": "stream",
          "text": [
            "/usr/local/lib/python3.7/dist-packages/tensorflow/python/keras/optimizer_v2/optimizer_v2.py:375: UserWarning: The `lr` argument is deprecated, use `learning_rate` instead.\n",
            "  \"The `lr` argument is deprecated, use `learning_rate` instead.\")\n"
          ],
          "name": "stderr"
        }
      ]
    },
    {
      "cell_type": "code",
      "metadata": {
        "colab": {
          "base_uri": "https://localhost:8080/"
        },
        "id": "DKtTaYLPJked",
        "outputId": "abcec2a4-b104-41c9-a507-5bbe98ef6aa7"
      },
      "source": [
        "# train the head of the network\n",
        "H = model.fit(\n",
        "\taug.flow(trainX, trainY, batch_size=32),\n",
        "\tsteps_per_epoch=len(trainX) // 32,\n",
        "\tvalidation_data=(testX, testY),\n",
        "\tvalidation_steps=len(testX) // 32,\n",
        "\tepochs=20)"
      ],
      "execution_count": 14,
      "outputs": [
        {
          "output_type": "stream",
          "text": [
            "Epoch 1/20\n",
            "95/95 [==============================] - 131s 1s/step - loss: 0.4490 - accuracy: 0.8355 - val_loss: 0.1809 - val_accuracy: 0.9765\n",
            "Epoch 2/20\n",
            "95/95 [==============================] - 127s 1s/step - loss: 0.1583 - accuracy: 0.9628 - val_loss: 0.1045 - val_accuracy: 0.9739\n",
            "Epoch 3/20\n",
            "95/95 [==============================] - 128s 1s/step - loss: 0.1066 - accuracy: 0.9730 - val_loss: 0.0674 - val_accuracy: 0.9831\n",
            "Epoch 4/20\n",
            "95/95 [==============================] - 127s 1s/step - loss: 0.0796 - accuracy: 0.9786 - val_loss: 0.0556 - val_accuracy: 0.9831\n",
            "Epoch 5/20\n",
            "95/95 [==============================] - 127s 1s/step - loss: 0.0648 - accuracy: 0.9832 - val_loss: 0.0476 - val_accuracy: 0.9844\n",
            "Epoch 6/20\n",
            "95/95 [==============================] - 127s 1s/step - loss: 0.0580 - accuracy: 0.9809 - val_loss: 0.0427 - val_accuracy: 0.9870\n",
            "Epoch 7/20\n",
            "95/95 [==============================] - 127s 1s/step - loss: 0.0479 - accuracy: 0.9875 - val_loss: 0.0389 - val_accuracy: 0.9883\n",
            "Epoch 8/20\n",
            "95/95 [==============================] - 127s 1s/step - loss: 0.0445 - accuracy: 0.9885 - val_loss: 0.0356 - val_accuracy: 0.9883\n",
            "Epoch 9/20\n",
            "95/95 [==============================] - 127s 1s/step - loss: 0.0462 - accuracy: 0.9875 - val_loss: 0.0351 - val_accuracy: 0.9896\n",
            "Epoch 10/20\n",
            "95/95 [==============================] - 127s 1s/step - loss: 0.0425 - accuracy: 0.9881 - val_loss: 0.0335 - val_accuracy: 0.9909\n",
            "Epoch 11/20\n",
            "95/95 [==============================] - 127s 1s/step - loss: 0.0407 - accuracy: 0.9888 - val_loss: 0.0318 - val_accuracy: 0.9909\n",
            "Epoch 12/20\n",
            "95/95 [==============================] - 128s 1s/step - loss: 0.0397 - accuracy: 0.9881 - val_loss: 0.0337 - val_accuracy: 0.9870\n",
            "Epoch 13/20\n",
            "95/95 [==============================] - 128s 1s/step - loss: 0.0342 - accuracy: 0.9898 - val_loss: 0.0287 - val_accuracy: 0.9922\n",
            "Epoch 14/20\n",
            "95/95 [==============================] - 127s 1s/step - loss: 0.0362 - accuracy: 0.9895 - val_loss: 0.0264 - val_accuracy: 0.9922\n",
            "Epoch 15/20\n",
            "95/95 [==============================] - 127s 1s/step - loss: 0.0371 - accuracy: 0.9891 - val_loss: 0.0247 - val_accuracy: 0.9935\n",
            "Epoch 16/20\n",
            "95/95 [==============================] - 127s 1s/step - loss: 0.0335 - accuracy: 0.9898 - val_loss: 0.0236 - val_accuracy: 0.9948\n",
            "Epoch 17/20\n",
            "95/95 [==============================] - 127s 1s/step - loss: 0.0245 - accuracy: 0.9927 - val_loss: 0.0231 - val_accuracy: 0.9948\n",
            "Epoch 18/20\n",
            "95/95 [==============================] - 127s 1s/step - loss: 0.0281 - accuracy: 0.9921 - val_loss: 0.0235 - val_accuracy: 0.9935\n",
            "Epoch 19/20\n",
            "95/95 [==============================] - 127s 1s/step - loss: 0.0280 - accuracy: 0.9931 - val_loss: 0.0253 - val_accuracy: 0.9896\n",
            "Epoch 20/20\n",
            "95/95 [==============================] - 127s 1s/step - loss: 0.0245 - accuracy: 0.9944 - val_loss: 0.0239 - val_accuracy: 0.9909\n"
          ],
          "name": "stdout"
        }
      ]
    },
    {
      "cell_type": "code",
      "metadata": {
        "colab": {
          "base_uri": "https://localhost:8080/"
        },
        "id": "Sp_dFIIDJlFT",
        "outputId": "5de62c4d-3c44-475e-bafd-ccd5f92047cc"
      },
      "source": [
        "# make predictions on the testing set\n",
        "predict = model.predict(testX, batch_size=32)\n",
        "\n",
        "# for each image in the testing set we need to find the index of the\n",
        "# label with corresponding largest predicted probability\n",
        "predict = np.argmax(predict, axis=1)\n",
        "\n",
        "print(classification_report(testY.argmax(axis=1), predict,target_names=lb.classes_))\n",
        "model.save(\"mask_detector.model\", save_format=\"h5\")"
      ],
      "execution_count": 15,
      "outputs": [
        {
          "output_type": "stream",
          "text": [
            "              precision    recall  f1-score   support\n",
            "\n",
            "   with_mask       0.99      0.99      0.99       383\n",
            "without_mask       0.99      0.99      0.99       384\n",
            "\n",
            "    accuracy                           0.99       767\n",
            "   macro avg       0.99      0.99      0.99       767\n",
            "weighted avg       0.99      0.99      0.99       767\n",
            "\n"
          ],
          "name": "stdout"
        },
        {
          "output_type": "stream",
          "text": [
            "/usr/local/lib/python3.7/dist-packages/tensorflow/python/keras/utils/generic_utils.py:497: CustomMaskWarning: Custom mask layers require a config and must override get_config. When loading, the custom mask layer must be passed to the custom_objects argument.\n",
            "  category=CustomMaskWarning)\n"
          ],
          "name": "stderr"
        }
      ]
    }
  ]
}